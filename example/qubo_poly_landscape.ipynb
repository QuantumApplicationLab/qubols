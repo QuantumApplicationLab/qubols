{
    "cells": [
        {
            "cell_type": "markdown",
            "metadata": {
                "tags": [
                    "remove_cell"
                ]
            },
            "source": [
                "# QUBO formulation of polynomial equation"
            ]
        },
        {
            "cell_type": "code",
            "execution_count": 1,
            "metadata": {},
            "outputs": [],
            "source": [
                "from sympy.matrices import Matrix, SparseMatrix"
            ]
        },
        {
            "cell_type": "markdown",
            "metadata": {},
            "source": [
                "# Use case\n",
                "\n",
                "To illustrate the metohod we are taking the equation of the two node water system that reads:\n",
                "\n",
                "$$\n",
                "x_0^2 + x_1 - 3 = 0 \\\\\n",
                "x_0 x_1 - 2 x_1^2 -1 = 0 \n",
                "$$"
            ]
        },
        {
            "cell_type": "code",
            "execution_count": 2,
            "metadata": {},
            "outputs": [],
            "source": [
                "import numpy as np\n",
                "\n",
                "def nlfunc(input):\n",
                "    x0,x1 = input\n",
                "\n",
                "    def f0():\n",
                "        return 2*x0**2 + 3*x0*x1 + x1**2 + 2*x0 + 4*x1 - 51\n",
                "    \n",
                "    def f1():\n",
                "        return x0**2 + 2*x0*x1 + 2*x1**2 + 3*x0 + 2*x1 - 46\n",
                "    \n",
                "    \n",
                "    return np.array([f0(), f1()])"
            ]
        },
        {
            "cell_type": "markdown",
            "metadata": {},
            "source": [
                "## Classical Solution\n",
                "\n",
                "The solution of such a small system can be obtained by newton raphson"
            ]
        },
        {
            "cell_type": "code",
            "execution_count": 3,
            "metadata": {},
            "outputs": [
                {
                    "name": "stderr",
                    "output_type": "stream",
                    "text": [
                        "/home/nico/QuantumApplicationLab/QuantumNewtonRaphson/quantum_newton_raphson/utils.py:74: SparseEfficiencyWarning: spsolve requires A be CSC or CSR matrix format\n",
                        "  warn(\"spsolve requires A be CSC or CSR matrix format\", SparseEfficiencyWarning)\n"
                    ]
                }
            ],
            "source": [
                "from quantum_newton_raphson.newton_raphson import newton_raphson\n",
                "\n",
                "initial_point = np.random.rand(2)\n",
                "res = newton_raphson(nlfunc, initial_point)\n",
                "assert np.allclose(nlfunc(res.solution), 0)"
            ]
        },
        {
            "cell_type": "code",
            "execution_count": 4,
            "metadata": {},
            "outputs": [
                {
                    "data": {
                        "text/plain": [
                            "array([ 7.70957576, -3.52953964])"
                        ]
                    },
                    "execution_count": 4,
                    "metadata": {},
                    "output_type": "execute_result"
                }
            ],
            "source": [
                "ref_sol = res.solution\n",
                "ref_sol"
            ]
        },
        {
            "cell_type": "markdown",
            "metadata": {},
            "source": [
                "### Polynomial equation\n",
                "\n",
                "We first write the polynomial equation as follow (https://www.nature.com/articles/s41598-019-46729-0) "
            ]
        },
        {
            "cell_type": "code",
            "execution_count": 5,
            "metadata": {},
            "outputs": [],
            "source": [
                "import numpy as np\n",
                "import sparse\n",
                "def define_matrices():\n",
                "    \n",
                "    # system of equations\n",
                "    num_equations = 2\n",
                "    num_variables = 2\n",
                "\n",
                "    P0 = np.zeros((num_equations,1))\n",
                "    P0[0] = -51\n",
                "    P0[1] = -46\n",
                "\n",
                "    P1 = np.zeros((num_equations, num_variables))\n",
                "    P1[0, 0] = 2\n",
                "    P1[0, 1] = 4\n",
                "    P1[1, 0] = 3\n",
                "    P1[1, 1] = 2\n",
                "\n",
                "\n",
                "    P2 = np.zeros((num_equations, num_variables, num_variables))\n",
                "    P2[0, 0, 0] = 2\n",
                "    P2[0, 0, 1] = 3\n",
                "    P2[0, 1, 1] = 1\n",
                "\n",
                "    P2[1, 0, 0] = 1\n",
                "    P2[1, 0, 1] = 2\n",
                "    P2[1, 1, 1] = 2\n",
                "\n",
                "    return P0, P1, P2 #, sparse.COO(P3)\n",
                "\n",
                "matrices = define_matrices()"
            ]
        },
        {
            "cell_type": "code",
            "execution_count": 6,
            "metadata": {},
            "outputs": [
                {
                    "data": {
                        "text/plain": [
                            "array([[0.],\n",
                            "       [0.]])"
                        ]
                    },
                    "execution_count": 6,
                    "metadata": {},
                    "output_type": "execute_result"
                }
            ],
            "source": [
                "def verify_solution(x, matrices):\n",
                "    \"\"\"generates the classical solution.\"\"\"\n",
                "\n",
                "    P0, P1, P2 = matrices\n",
                "    x = np.array([2,3]).reshape(-1,1)\n",
                "    x2 = x@x.T\n",
                "    return P0 + P1@x + [ [(P2[0] * x2).sum()],  [(P2[1] * x2).sum()] ]\n",
                "\n",
                "verify_solution(np.array([2.,3]), matrices)"
            ]
        },
        {
            "cell_type": "markdown",
            "metadata": {},
            "source": [
                "## 3. Solving the system\n",
                "\n",
                "We will use here the `SimulatedAnnealingSampler` to be able to run that code locally. Quantum solvers are available through the Leap cloud service."
            ]
        },
        {
            "cell_type": "code",
            "execution_count": 7,
            "metadata": {},
            "outputs": [],
            "source": [
                "from qubols.qubo_poly import QUBO_POLY\n",
                "from qubols.qubo_poly_mixed_variables import QUBO_POLY_MIXED\n",
                "from qubols.encodings import PositiveQbitEncoding, RangedEfficientEncoding\n",
                "from qubols.solution_vector import SolutionVector_V2 as SolutionVector\n",
                "\n",
                "from dwave.samplers import SimulatedAnnealingSampler\n",
                "from dwave.samplers import SteepestDescentSolver\n",
                "from dwave.samplers import TabuSampler\n",
                "from dimod import ExactSolver\n",
                "\n",
                "nqbit = 4\n",
                "step = 6/(2**nqbit-1)\n",
                "step = 0.05\n",
                "encoding = PositiveQbitEncoding(nqbit = nqbit, step=step, offset=0.0, var_base_name='x')\n",
                "encoding = RangedEfficientEncoding(nqbit=nqbit, range=3, offset=3, var_base_name='x')\n",
                "sol_vec = SolutionVector(2, encoding=encoding)\n",
                "sampler = SimulatedAnnealingSampler()\n",
                "# sampler = TabuSampler()\n",
                "\n",
                "options = {'num_reads':1000, 'sampler':sampler}\n",
                "qubo = QUBO_POLY(sol_vec, options)"
            ]
        },
        {
            "cell_type": "code",
            "execution_count": 8,
            "metadata": {},
            "outputs": [
                {
                    "data": {
                        "text/plain": [
                            "array([-4.28571429e-01,  1.66533454e-16,  4.28571429e-01,  8.57142857e-01,\n",
                            "        1.28571429e+00,  1.71428571e+00,  2.14285714e+00,  2.57142857e+00,\n",
                            "        3.00000000e+00,  3.42857143e+00,  3.85714286e+00,  4.28571429e+00,\n",
                            "        4.71428571e+00,  5.14285714e+00,  5.57142857e+00,  6.00000000e+00])"
                        ]
                    },
                    "execution_count": 8,
                    "metadata": {},
                    "output_type": "execute_result"
                }
            ],
            "source": [
                "np.sort(encoding.get_possible_values())"
            ]
        },
        {
            "cell_type": "code",
            "execution_count": 19,
            "metadata": {},
            "outputs": [
                {
                    "name": "stdout",
                    "output_type": "stream",
                    "text": [
                        "ref:  [2, 3] -> [2.142857142857143, 3.0]  energy:  -625.884214910453\n",
                        "sol:  [2.14285714 3.        ] -> [2.142857142857143, 3.0]  energy:  -625.884214910453 -625.8842149107077\n",
                        "[-0.14285714  0.        ]\n"
                    ]
                }
            ],
            "source": [
                "matrices = tuple(sparse.COO(m) for m in matrices)\n",
                "\n",
                "bqm = qubo.create_bqm(matrices, strength=10000)\n",
                "\n",
                "# sample\n",
                "sampleset = qubo.sample_bqm(bqm, num_reads=1000)\n",
                "\n",
                "# decode\n",
                "sol  = qubo.decode_solution(sampleset.lowest().record[0][0])\n",
                "sol = np.array(sol).reshape(-1)\n",
                "elowest = sampleset.lowest().record[0][1]\n",
                "\n",
                "ref_sol = [2, 3]\n",
                "data_ref, eref = qubo.compute_energy(ref_sol, bqm)\n",
                "data_sol, esol = qubo.compute_energy(sol, bqm)\n",
                "\n",
                "print('ref: ', ref_sol, '->', data_ref[0], ' energy: ', eref)\n",
                "print('sol: ', sol, '->', data_sol[0], ' energy: ', esol, elowest)\n",
                "print(ref_sol - sol)"
            ]
        },
        {
            "cell_type": "code",
            "execution_count": 20,
            "metadata": {},
            "outputs": [],
            "source": [
                "qubo.verify_quadratic_constraints(sampleset.lowest())"
            ]
        },
        {
            "cell_type": "code",
            "execution_count": 11,
            "metadata": {},
            "outputs": [
                {
                    "data": {
                        "text/plain": [
                            "3.334034356383571"
                        ]
                    },
                    "execution_count": 11,
                    "metadata": {},
                    "output_type": "execute_result"
                }
            ],
            "source": [
                "import numpy as np\n",
                "np.linalg.norm(nlfunc(data_ref[0]))"
            ]
        },
        {
            "cell_type": "code",
            "execution_count": 12,
            "metadata": {},
            "outputs": [
                {
                    "data": {
                        "text/plain": [
                            "3.334034356383571"
                        ]
                    },
                    "execution_count": 12,
                    "metadata": {},
                    "output_type": "execute_result"
                }
            ],
            "source": [
                "np.linalg.norm(nlfunc(data_sol[0]))"
            ]
        },
        {
            "cell_type": "code",
            "execution_count": 13,
            "metadata": {},
            "outputs": [
                {
                    "name": "stdout",
                    "output_type": "stream",
                    "text": [
                        "ref:  [2, 3] -> [2.142857142857143, 3.0]  energy:  -625.884214910453\n",
                        "sol:  [5.16, 1.33] -> [5.142857142857142, 1.2857142857142858]  energy:  1094.0953769262778\n",
                        "[-3.16  1.67]\n"
                    ]
                }
            ],
            "source": [
                "ref_sol = [2, 3]\n",
                "trial_sol = [5.16, 1.33]\n",
                "data_ref, eref = qubo.compute_energy(ref_sol, bqm)\n",
                "data_sol, esol = qubo.compute_energy(trial_sol, bqm)\n",
                "\n",
                "print('ref: ', ref_sol, '->', data_ref[0], ' energy: ', eref)\n",
                "print('sol: ', trial_sol, '->', data_sol[0], ' energy: ', esol)\n",
                "print(np.array(ref_sol) - np.array(trial_sol))"
            ]
        },
        {
            "cell_type": "code",
            "execution_count": 14,
            "metadata": {},
            "outputs": [
                {
                    "data": {
                        "text/plain": [
                            "-625.8842149107077"
                        ]
                    },
                    "execution_count": 14,
                    "metadata": {},
                    "output_type": "execute_result"
                }
            ],
            "source": [
                "sampleset.lowest().record[0][1]"
            ]
        },
        {
            "cell_type": "code",
            "execution_count": 15,
            "metadata": {},
            "outputs": [
                {
                    "data": {
                        "text/plain": [
                            "Variables(['x_001_002', 'x_001_001', 'x_001_002*x_001_001', 'x_001_003', 'x_002_001', 'x_001_003*x_002_001', 'x_001_004', 'x_002_004', 'x_001_004*x_002_004', 'x_002_002', 'x_002_003', 'x_002_002*x_002_003', 'x_001_001*x_002_003', 'x_001_002*x_002_003', 'x_001_003*x_002_002', 'x_001_004*x_002_001', 'x_002_001*x_002_004', 'x_001_003*x_002_004', 'x_001_004*x_001_003', 'x_001_002*x_002_002', 'x_001_001*x_002_002', 'x_002_002*x_002_003*x_001_001', 'x_001_002*x_002_002*x_002_003', 'x_001_003*x_002_001*x_002_004', 'x_001_002*x_001_001*x_002_003', 'x_001_004*x_002_004*x_002_001', 'x_001_004*x_001_003*x_002_001', 'x_001_002*x_001_001*x_002_002', 'x_001_004*x_002_004*x_001_003', 'x_001_003*x_002_002*x_001_001', 'x_001_002*x_001_003*x_002_002'])"
                        ]
                    },
                    "execution_count": 15,
                    "metadata": {},
                    "output_type": "execute_result"
                }
            ],
            "source": [
                "bqm.variables"
            ]
        },
        {
            "cell_type": "code",
            "execution_count": 16,
            "metadata": {},
            "outputs": [
                {
                    "data": {
                        "text/plain": [
                            "<bound method BinaryQuadraticModel.energy of BinaryQuadraticModel({'x_001_002': 762.8334027488546, 'x_001_001': 1201.839233652644, 'x_001_002*x_001_001': 30000.0, 'x_001_003': 1903.771761765931, 'x_002_001': 1376.7663473552675, 'x_001_003*x_002_001': 30000.0, 'x_001_004': 5578.78550603915, 'x_002_004': 5490.0624739691775, 'x_001_004*x_002_004': 30000.0, 'x_002_002': 749.2328196584754, 'x_002_003': 1872.1099541857552, 'x_002_002*x_002_003': 30000.0, 'x_001_001*x_002_003': 30000.0, 'x_001_002*x_002_003': 30000.0, 'x_001_003*x_002_002': 30000.0, 'x_001_004*x_002_001': 30000.0, 'x_002_001*x_002_004': 30000.0, 'x_001_003*x_002_004': 30000.0, 'x_001_004*x_001_003': 30000.0, 'x_001_002*x_002_002': 30000.0, 'x_001_001*x_002_002': 30000.0, 'x_002_002*x_002_003*x_001_001': 30000.0, 'x_001_002*x_002_002*x_002_003': 30000.0, 'x_001_003*x_002_001*x_002_004': 30000.0, 'x_001_002*x_001_001*x_002_003': 30000.0, 'x_001_004*x_002_004*x_002_001': 30000.0, 'x_001_004*x_001_003*x_002_001': 30000.0, 'x_001_002*x_001_001*x_002_002': 30000.0, 'x_001_004*x_002_004*x_001_003': 30000.0, 'x_001_003*x_002_002*x_001_001': 30000.0, 'x_001_002*x_001_003*x_002_002': 30000.0}, {('x_001_001', 'x_001_002'): 8782.3273635985, ('x_001_002*x_001_001', 'x_001_002'): -20000.0, ('x_001_002*x_001_001', 'x_001_001'): -20000.0, ('x_001_003', 'x_001_002'): 819.9033735943356, ('x_001_003', 'x_001_001'): -2799.153685964182, ('x_001_003', 'x_001_002*x_001_001'): -760.0033319450228, ('x_002_001', 'x_001_002'): -1320.46980424823, ('x_002_001', 'x_001_001'): 1767.583506872139, ('x_002_001', 'x_001_002*x_001_001'): 1712.8862973760931, ('x_002_001', 'x_001_003'): 7028.358184089962, ('x_001_003*x_002_001', 'x_001_002'): -687.313619325281, ('x_001_003*x_002_001', 'x_001_001'): 3633.0462307371927, ('x_001_003*x_002_001', 'x_001_002*x_001_001'): 414.5472719700124, ('x_001_003*x_002_001', 'x_001_003'): -20000.0, ('x_001_003*x_002_001', 'x_002_001'): -20000.0, ('x_001_004', 'x_001_002'): 1910.77384423157, ('x_001_004', 'x_001_001'): -7183.087047063723, ('x_001_004', 'x_001_002*x_001_001'): -1649.5526863806745, ('x_001_004', 'x_001_003'): 14100.611411911703, ('x_001_004', 'x_002_001'): 2630.2707205331117, ('x_001_004', 'x_001_003*x_002_001'): 6939.835068721366, ('x_002_004', 'x_001_002'): 1737.0862140774675, ('x_002_004', 'x_001_001'): -7050.182423990003, ('x_002_004', 'x_001_002*x_001_001'): -1400.5364431486878, ('x_002_004', 'x_001_003'): 13707.535193669304, ('x_002_004', 'x_002_001'): 2778.2890462307405, ('x_002_004', 'x_001_003*x_002_001'): 7158.623906705539, ('x_002_004', 'x_001_004'): 18400.339858392334, ('x_001_004*x_002_004', 'x_001_002'): 1011.1786755518532, ('x_001_004*x_002_004', 'x_001_001'): -6223.96668054977, ('x_001_004*x_002_004', 'x_001_002*x_001_001'): -414.5472719700124, ('x_001_004*x_002_004', 'x_001_003'): 12074.175760099959, ('x_001_004*x_002_004', 'x_002_001'): 3954.5189504373193, ('x_001_004*x_002_004', 'x_001_003*x_002_001'): -725.4577259475217, ('x_001_004*x_002_004', 'x_001_004'): -20000.0, ('x_001_004*x_002_004', 'x_002_004'): -20000.0, ('x_002_002', 'x_001_002'): 10354.216159933361, ('x_002_002', 'x_001_001'): 8724.871303623491, ('x_002_002', 'x_001_002*x_001_001'): 9683.871720116618, ('x_002_002', 'x_001_003'): 10762.52228238234, ('x_002_002', 'x_002_001'): -1249.9991670137438, ('x_002_002', 'x_001_003*x_002_001'): -642.3323615160348, ('x_002_002', 'x_001_004'): 1754.359017076218, ('x_002_002', 'x_002_004'): 1881.5960016659717, ('x_002_002', 'x_001_004*x_002_004'): 959.7201166180755, ('x_002_003', 'x_001_002'): 10759.913369429405, ('x_002_003', 'x_001_001'): 7139.9117034568935, ('x_002_003', 'x_001_002*x_001_001'): 9345.072886297376, ('x_002_003', 'x_001_003'): 1630.840483132028, ('x_002_003', 'x_002_001'): -2848.693044564764, ('x_002_003', 'x_001_003*x_002_001'): -1330.0058309037897, ('x_002_003', 'x_001_004'): 3731.64514785506, ('x_002_003', 'x_002_004'): 4034.698875468553, ('x_002_003', 'x_001_004*x_002_004'): 1964.7813411078712, ('x_002_003', 'x_002_002'): 10809.092877967512, ('x_002_002*x_002_003', 'x_001_002'): 10105.795918367347, ('x_002_002*x_002_003', 'x_001_001'): 9357.667638483965, ('x_002_002*x_002_003', 'x_001_002*x_001_001'): -45.341107871720105, ('x_002_002*x_002_003', 'x_001_003'): 217.25947521865885, ('x_002_002*x_002_003', 'x_002_001'): -729.7759266972091, ('x_002_002*x_002_003', 'x_001_003*x_002_001'): -90.68221574344021, ('x_002_002*x_002_003', 'x_001_004'): 457.1895043731777, ('x_002_002*x_002_003', 'x_002_004'): 559.2069970845479, ('x_002_002*x_002_003', 'x_001_004*x_002_004'): 90.68221574344021, ('x_002_002*x_002_003', 'x_002_002'): -20000.0, ('x_002_002*x_002_003', 'x_002_003'): -20000.0, ('x_001_001*x_002_003', 'x_001_001'): -20000.0, ('x_001_001*x_002_003', 'x_001_003'): -1361.6726364014992, ('x_001_001*x_002_003', 'x_002_001'): 3506.379008746355, ('x_001_001*x_002_003', 'x_001_003*x_002_001'): 725.4577259475217, ('x_001_001*x_002_003', 'x_001_004'): -2930.6189087880043, ('x_001_001*x_002_003', 'x_002_004'): -2841.37609329446, ('x_001_001*x_002_003', 'x_001_004*x_002_004'): -725.4577259475217, ('x_001_001*x_002_003', 'x_002_003'): -20000.0, ('x_001_002*x_002_003', 'x_001_002'): -20000.0, ('x_001_002*x_002_003', 'x_001_003'): 228.50478967097038, ('x_001_002*x_002_003', 'x_002_001'): -642.3323615160348, ('x_001_002*x_002_003', 'x_001_003*x_002_001'): -90.68221574344021, ('x_001_002*x_002_003', 'x_001_004'): 482.91878384006657, ('x_001_002*x_002_003', 'x_002_004'): 457.1895043731777, ('x_001_002*x_002_003', 'x_001_004*x_002_004'): 90.68221574344021, ('x_001_002*x_002_003', 'x_002_003'): -20000.0, ('x_001_003*x_002_002', 'x_001_002'): 10111.418575593503, ('x_001_003*x_002_002', 'x_001_001'): 9341.83423573511, ('x_001_003*x_002_002', 'x_001_002*x_001_001'): -51.81840899625155, ('x_001_003*x_002_002', 'x_001_003'): -20000.0, ('x_001_003*x_002_002', 'x_001_004'): 484.5381091211994, ('x_001_003*x_002_002', 'x_002_004'): 457.1895043731777, ('x_001_003*x_002_002', 'x_001_004*x_002_004'): 90.68221574344021, ('x_001_003*x_002_002', 'x_002_002'): -20000.0, ('x_001_004*x_002_001', 'x_001_002'): -1478.264056643065, ('x_001_004*x_002_001', 'x_001_001'): 8095.187005414409, ('x_001_004*x_002_001', 'x_001_002*x_001_001'): 829.0945439400248, ('x_001_004*x_002_001', 'x_002_001'): -20000.0, ('x_001_004*x_002_001', 'x_001_004'): -20000.0, ('x_001_004*x_002_001', 'x_002_002'): -1375.34693877551, ('x_001_004*x_002_001', 'x_002_003'): -2841.37609329446, ('x_001_004*x_002_001', 'x_002_002*x_002_003'): -181.36443148688042, ('x_001_004*x_002_001', 'x_001_001*x_002_003'): 1450.9154518950434, ('x_001_004*x_002_001', 'x_001_002*x_002_003'): -181.36443148688042, ('x_002_001*x_002_004', 'x_001_002'): -1375.34693877551, ('x_002_001*x_002_004', 'x_001_001'): 7738.215743440232, ('x_002_001*x_002_004', 'x_001_002*x_001_001'): 725.4577259475217, ('x_002_001*x_002_004', 'x_002_001'): -20000.0, ('x_002_001*x_002_004', 'x_002_004'): -20000.0, ('x_002_001*x_002_004', 'x_002_002'): -1589.0978758850472, ('x_002_001*x_002_004', 'x_002_003'): -3307.741774260723, ('x_002_001*x_002_004', 'x_002_002*x_002_003'): -259.09204498125774, ('x_002_001*x_002_004', 'x_001_001*x_002_003'): 1450.9154518950434, ('x_002_001*x_002_004', 'x_001_002*x_002_003'): -181.36443148688042, ('x_001_003*x_002_004', 'x_001_002'): 479.6801332778008, ('x_001_003*x_002_004', 'x_001_001'): -2904.7097042898786, ('x_001_003*x_002_004', 'x_001_002*x_001_001'): -207.2736359850062, ('x_001_003*x_002_004', 'x_001_003'): -20000.0, ('x_001_003*x_002_004', 'x_002_004'): -20000.0, ('x_001_003*x_002_004', 'x_002_003'): 937.0495626822155, ('x_001_003*x_002_004', 'x_002_002*x_002_003'): 45.341107871720105, ('x_001_003*x_002_004', 'x_001_001*x_002_003'): -362.72886297376084, ('x_001_003*x_002_004', 'x_001_002*x_002_003'): 45.341107871720105, ('x_001_004*x_001_003', 'x_001_002'): 574.3206997084548, ('x_001_004*x_001_003', 'x_001_001'): -3428.6513952519776, ('x_001_004*x_001_003', 'x_001_002*x_001_001'): -259.0920449812578, ('x_001_004*x_001_003', 'x_001_003'): -20000.0, ('x_001_004*x_001_003', 'x_001_004'): -20000.0, ('x_001_004*x_001_003', 'x_002_003'): 991.7467721782589, ('x_001_004*x_001_003', 'x_002_002*x_002_003'): 45.341107871720105, ('x_001_004*x_001_003', 'x_001_001*x_002_003'): -414.5472719700124, ('x_001_004*x_001_003', 'x_001_002*x_002_003'): 51.81840899625155, ('x_001_002*x_002_002', 'x_001_002'): -20000.0, ('x_001_002*x_002_002', 'x_002_001'): -309.8309037900874, ('x_001_002*x_002_002', 'x_001_003*x_002_001'): -45.341107871720105, ('x_001_002*x_002_002', 'x_001_004'): 235.79175343606826, ('x_001_002*x_002_002', 'x_002_004'): 222.92711370262384, ('x_001_002*x_002_002', 'x_001_004*x_002_004'): 45.341107871720105, ('x_001_002*x_002_002', 'x_002_002'): -20000.0, ('x_001_002*x_002_002', 'x_001_004*x_002_001'): -90.68221574344021, ('x_001_002*x_002_002', 'x_002_001*x_002_004'): -90.68221574344021, ('x_001_001*x_002_002', 'x_001_001'): -20000.0, ('x_001_001*x_002_002', 'x_002_001'): 1662.507288629737, ('x_001_001*x_002_002', 'x_001_003*x_002_001'): 362.72886297376084, ('x_001_001*x_002_002', 'x_001_004'): -1419.9683465222822, ('x_001_001*x_002_002', 'x_002_004'): -1375.34693877551, ('x_001_001*x_002_002', 'x_001_004*x_002_004'): -362.72886297376084, ('x_001_001*x_002_002', 'x_002_002'): -20000.0, ('x_001_001*x_002_002', 'x_001_004*x_002_001'): 725.4577259475217, ('x_001_001*x_002_002', 'x_002_001*x_002_004'): 725.4577259475217, ('x_002_002*x_002_003*x_001_001', 'x_001_001'): -20000.0, ('x_002_002*x_002_003*x_001_001', 'x_001_003'): -90.68221574344021, ('x_002_002*x_002_003*x_001_001', 'x_002_001'): 362.72886297376084, ('x_002_002*x_002_003*x_001_001', 'x_001_004'): -181.36443148688042, ('x_002_002*x_002_003*x_001_001', 'x_002_004'): -181.36443148688042, ('x_002_002*x_002_003*x_001_001', 'x_002_002*x_002_003'): -20000.0, ('x_001_002*x_002_002*x_002_003', 'x_001_002'): -20000.0, ('x_001_002*x_002_002*x_002_003', 'x_001_003'): 11.335276967930026, ('x_001_002*x_002_002*x_002_003', 'x_002_001'): -45.341107871720105, ('x_001_002*x_002_002*x_002_003', 'x_001_004'): 22.670553935860053, ('x_001_002*x_002_002*x_002_003', 'x_002_004'): 22.670553935860053, ('x_001_002*x_002_002*x_002_003', 'x_002_002*x_002_003'): -20000.0, ('x_001_003*x_002_001*x_002_004', 'x_001_002'): -181.36443148688042, ('x_001_003*x_002_001*x_002_004', 'x_001_001'): 1450.9154518950434, ('x_001_003*x_002_001*x_002_004', 'x_001_003*x_002_001'): -20000.0, ('x_001_003*x_002_001*x_002_004', 'x_002_004'): -20000.0, ('x_001_003*x_002_001*x_002_004', 'x_002_002'): -181.36443148688042, ('x_001_003*x_002_001*x_002_004', 'x_002_003'): -362.72886297376084, ('x_001_002*x_001_001*x_002_003', 'x_001_002*x_001_001'): -20000.0, ('x_001_002*x_001_001*x_002_003', 'x_001_003'): -103.6368179925031, ('x_001_002*x_001_001*x_002_003', 'x_002_001'): 362.72886297376084, ('x_001_002*x_001_001*x_002_003', 'x_001_004'): -207.2736359850062, ('x_001_002*x_001_001*x_002_003', 'x_002_004'): -181.36443148688042, ('x_001_002*x_001_001*x_002_003', 'x_002_003'): -20000.0, ('x_001_004*x_002_004*x_002_001', 'x_001_002'): -362.72886297376084, ('x_001_004*x_002_004*x_002_001', 'x_001_001'): 2901.8309037900867, ('x_001_004*x_002_004*x_002_001', 'x_002_001'): -20000.0, ('x_001_004*x_002_004*x_002_001', 'x_001_004*x_002_004'): -20000.0, ('x_001_004*x_002_004*x_002_001', 'x_002_002'): -362.72886297376084, ('x_001_004*x_002_004*x_002_001', 'x_002_003'): -725.4577259475217, ('x_001_004*x_001_003*x_002_001', 'x_001_002'): -207.2736359850062, ('x_001_004*x_001_003*x_002_001', 'x_001_001'): 1658.1890878800496, ('x_001_004*x_001_003*x_002_001', 'x_001_003*x_002_001'): -20000.0, ('x_001_004*x_001_003*x_002_001', 'x_001_004'): -20000.0, ('x_001_004*x_001_003*x_002_001', 'x_002_002'): -181.36443148688042, ('x_001_004*x_001_003*x_002_001', 'x_002_003'): -362.72886297376084, ('x_001_002*x_001_001*x_002_002', 'x_001_002*x_001_001'): -20000.0, ('x_001_002*x_001_001*x_002_002', 'x_002_001'): 181.36443148688042, ('x_001_002*x_001_001*x_002_002', 'x_001_004'): -103.6368179925031, ('x_001_002*x_001_001*x_002_002', 'x_002_004'): -90.68221574344021, ('x_001_002*x_001_001*x_002_002', 'x_002_002'): -20000.0, ('x_001_004*x_002_004*x_001_003', 'x_001_002'): 103.6368179925031, ('x_001_004*x_002_004*x_001_003', 'x_001_001'): -829.0945439400248, ('x_001_004*x_002_004*x_001_003', 'x_001_003'): -20000.0, ('x_001_004*x_002_004*x_001_003', 'x_001_004*x_002_004'): -20000.0, ('x_001_004*x_002_004*x_001_003', 'x_002_003'): 181.36443148688042, ('x_001_003*x_002_002*x_001_001', 'x_001_001'): -20000.0, ('x_001_003*x_002_002*x_001_001', 'x_001_004'): -207.2736359850062, ('x_001_003*x_002_002*x_001_001', 'x_002_004'): -181.36443148688042, ('x_001_003*x_002_002*x_001_001', 'x_001_003*x_002_002'): -20000.0, ('x_001_002*x_001_003*x_002_002', 'x_001_002'): -20000.0, ('x_001_002*x_001_003*x_002_002', 'x_001_004'): 25.909204498125774, ('x_001_002*x_001_003*x_002_002', 'x_002_004'): 22.670553935860053, ('x_001_002*x_001_003*x_002_002', 'x_001_003*x_002_002'): -20000.0}, 0.0, 'BINARY')>"
                        ]
                    },
                    "execution_count": 16,
                    "metadata": {},
                    "output_type": "execute_result"
                }
            ],
            "source": [
                "bqm.energy"
            ]
        },
        {
            "cell_type": "code",
            "execution_count": null,
            "metadata": {},
            "outputs": [],
            "source": []
        }
    ],
    "metadata": {
        "kernelspec": {
            "display_name": "Python 3.8.0 ('qubols')",
            "language": "python",
            "name": "python3"
        },
        "language_info": {
            "codemirror_mode": {
                "name": "ipython",
                "version": 3
            },
            "file_extension": ".py",
            "mimetype": "text/x-python",
            "name": "python",
            "nbconvert_exporter": "python",
            "pygments_lexer": "ipython3",
            "version": "3.9.0"
        },
        "vscode": {
            "interpreter": {
                "hash": "390591a6667b05d6f83558ed597f55be1305d4de992db830679d199a6a0e520c"
            }
        },
        "widgets": {
            "application/vnd.jupyter.widget-state+json": {
                "state": {
                    "17046f96803d48aa8c63b99a5c89e6f3": {
                        "model_module": "@jupyter-widgets/controls",
                        "model_module_version": "1.5.0",
                        "model_name": "DescriptionStyleModel",
                        "state": {
                            "_model_module": "@jupyter-widgets/controls",
                            "_model_module_version": "1.5.0",
                            "_model_name": "DescriptionStyleModel",
                            "_view_count": null,
                            "_view_module": "@jupyter-widgets/base",
                            "_view_module_version": "1.2.0",
                            "_view_name": "StyleView",
                            "description_width": ""
                        }
                    },
                    "1a46e33438a648dd839fe5fd43b9582b": {
                        "model_module": "@jupyter-widgets/controls",
                        "model_module_version": "1.5.0",
                        "model_name": "DescriptionStyleModel",
                        "state": {
                            "_model_module": "@jupyter-widgets/controls",
                            "_model_module_version": "1.5.0",
                            "_model_name": "DescriptionStyleModel",
                            "_view_count": null,
                            "_view_module": "@jupyter-widgets/base",
                            "_view_module_version": "1.2.0",
                            "_view_name": "StyleView",
                            "description_width": ""
                        }
                    },
                    "1f812fe9a02b41b885f01e3190957acf": {
                        "model_module": "@jupyter-widgets/base",
                        "model_module_version": "1.2.0",
                        "model_name": "LayoutModel",
                        "state": {
                            "_model_module": "@jupyter-widgets/base",
                            "_model_module_version": "1.2.0",
                            "_model_name": "LayoutModel",
                            "_view_count": null,
                            "_view_module": "@jupyter-widgets/base",
                            "_view_module_version": "1.2.0",
                            "_view_name": "LayoutView",
                            "align_content": null,
                            "align_items": null,
                            "align_self": null,
                            "border": null,
                            "bottom": null,
                            "display": null,
                            "flex": null,
                            "flex_flow": null,
                            "grid_area": null,
                            "grid_auto_columns": null,
                            "grid_auto_flow": null,
                            "grid_auto_rows": null,
                            "grid_column": null,
                            "grid_gap": null,
                            "grid_row": null,
                            "grid_template_areas": "\n                                       \". . . . right \"\n                                        ",
                            "grid_template_columns": "20% 20% 20% 20% 20%",
                            "grid_template_rows": null,
                            "height": null,
                            "justify_content": null,
                            "justify_items": null,
                            "left": null,
                            "margin": null,
                            "max_height": null,
                            "max_width": null,
                            "min_height": null,
                            "min_width": null,
                            "object_fit": null,
                            "object_position": null,
                            "order": null,
                            "overflow": null,
                            "overflow_x": null,
                            "overflow_y": null,
                            "padding": null,
                            "right": null,
                            "top": null,
                            "visibility": null,
                            "width": "100%"
                        }
                    },
                    "20439ee3a84741dc9a137f7964898fc3": {
                        "model_module": "@jupyter-widgets/controls",
                        "model_module_version": "1.5.0",
                        "model_name": "HTMLModel",
                        "state": {
                            "_dom_classes": [],
                            "_model_module": "@jupyter-widgets/controls",
                            "_model_module_version": "1.5.0",
                            "_model_name": "HTMLModel",
                            "_view_count": null,
                            "_view_module": "@jupyter-widgets/controls",
                            "_view_module_version": "1.5.0",
                            "_view_name": "HTMLView",
                            "description": "",
                            "description_tooltip": null,
                            "layout": "IPY_MODEL_f0e6a746eff140269e915ef65de640c7",
                            "placeholder": "​",
                            "style": "IPY_MODEL_96316857896d44328b3898d849594ae7",
                            "value": "<h5>Status</h5>"
                        }
                    },
                    "246d39f98fdb4892bc1d5bfb88d2f1cd": {
                        "model_module": "@jupyter-widgets/controls",
                        "model_module_version": "1.5.0",
                        "model_name": "DescriptionStyleModel",
                        "state": {
                            "_model_module": "@jupyter-widgets/controls",
                            "_model_module_version": "1.5.0",
                            "_model_name": "DescriptionStyleModel",
                            "_view_count": null,
                            "_view_module": "@jupyter-widgets/base",
                            "_view_module_version": "1.2.0",
                            "_view_name": "StyleView",
                            "description_width": ""
                        }
                    },
                    "27e0478b2a9c4533b2e67eac937cbebc": {
                        "model_module": "@jupyter-widgets/controls",
                        "model_module_version": "1.5.0",
                        "model_name": "HBoxModel",
                        "state": {
                            "_dom_classes": [],
                            "_model_module": "@jupyter-widgets/controls",
                            "_model_module_version": "1.5.0",
                            "_model_name": "HBoxModel",
                            "_view_count": null,
                            "_view_module": "@jupyter-widgets/controls",
                            "_view_module_version": "1.5.0",
                            "_view_name": "HBoxView",
                            "box_style": "",
                            "children": [
                                "IPY_MODEL_ac5a0f78ef8140a2abdf035fd1751936",
                                "IPY_MODEL_5ff6f36eaa894a339210fc29fdbeedcf",
                                "IPY_MODEL_20439ee3a84741dc9a137f7964898fc3",
                                "IPY_MODEL_eef64edafd8f47c885da65fa3ca0ab8a",
                                "IPY_MODEL_a38db3ffdfc848c0b0150e42b3509be5"
                            ],
                            "layout": "IPY_MODEL_fc018f99fbb44aa9beb54a8e6be5209e"
                        }
                    },
                    "2f981df37e914685992f4564103ef872": {
                        "model_module": "@jupyter-widgets/base",
                        "model_module_version": "1.2.0",
                        "model_name": "LayoutModel",
                        "state": {
                            "_model_module": "@jupyter-widgets/base",
                            "_model_module_version": "1.2.0",
                            "_model_name": "LayoutModel",
                            "_view_count": null,
                            "_view_module": "@jupyter-widgets/base",
                            "_view_module_version": "1.2.0",
                            "_view_name": "LayoutView",
                            "align_content": null,
                            "align_items": null,
                            "align_self": null,
                            "border": null,
                            "bottom": null,
                            "display": null,
                            "flex": null,
                            "flex_flow": null,
                            "grid_area": null,
                            "grid_auto_columns": null,
                            "grid_auto_flow": null,
                            "grid_auto_rows": null,
                            "grid_column": null,
                            "grid_gap": null,
                            "grid_row": null,
                            "grid_template_areas": null,
                            "grid_template_columns": null,
                            "grid_template_rows": null,
                            "height": null,
                            "justify_content": null,
                            "justify_items": null,
                            "left": null,
                            "margin": null,
                            "max_height": null,
                            "max_width": null,
                            "min_height": null,
                            "min_width": null,
                            "object_fit": null,
                            "object_position": null,
                            "order": null,
                            "overflow": null,
                            "overflow_x": null,
                            "overflow_y": null,
                            "padding": null,
                            "right": null,
                            "top": null,
                            "visibility": null,
                            "width": null
                        }
                    },
                    "3aa67247d1a9433f87b13ce1370c8b1c": {
                        "model_module": "@jupyter-widgets/base",
                        "model_module_version": "1.2.0",
                        "model_name": "LayoutModel",
                        "state": {
                            "_model_module": "@jupyter-widgets/base",
                            "_model_module_version": "1.2.0",
                            "_model_name": "LayoutModel",
                            "_view_count": null,
                            "_view_module": "@jupyter-widgets/base",
                            "_view_module_version": "1.2.0",
                            "_view_name": "LayoutView",
                            "align_content": null,
                            "align_items": null,
                            "align_self": null,
                            "border": null,
                            "bottom": null,
                            "display": null,
                            "flex": null,
                            "flex_flow": null,
                            "grid_area": null,
                            "grid_auto_columns": null,
                            "grid_auto_flow": null,
                            "grid_auto_rows": null,
                            "grid_column": null,
                            "grid_gap": null,
                            "grid_row": null,
                            "grid_template_areas": null,
                            "grid_template_columns": null,
                            "grid_template_rows": null,
                            "height": null,
                            "justify_content": null,
                            "justify_items": null,
                            "left": null,
                            "margin": null,
                            "max_height": null,
                            "max_width": null,
                            "min_height": null,
                            "min_width": null,
                            "object_fit": null,
                            "object_position": null,
                            "order": null,
                            "overflow": null,
                            "overflow_x": null,
                            "overflow_y": null,
                            "padding": null,
                            "right": null,
                            "top": null,
                            "visibility": null,
                            "width": "190px"
                        }
                    },
                    "40a8f99fef5b4aad89f533edcb091c3f": {
                        "model_module": "@jupyter-widgets/controls",
                        "model_module_version": "1.5.0",
                        "model_name": "ButtonStyleModel",
                        "state": {
                            "_model_module": "@jupyter-widgets/controls",
                            "_model_module_version": "1.5.0",
                            "_model_name": "ButtonStyleModel",
                            "_view_count": null,
                            "_view_module": "@jupyter-widgets/base",
                            "_view_module_version": "1.2.0",
                            "_view_name": "StyleView",
                            "button_color": null,
                            "font_weight": ""
                        }
                    },
                    "46f75da5f7ab4f33b4df8618ccffde6b": {
                        "model_module": "@jupyter-widgets/controls",
                        "model_module_version": "1.5.0",
                        "model_name": "DescriptionStyleModel",
                        "state": {
                            "_model_module": "@jupyter-widgets/controls",
                            "_model_module_version": "1.5.0",
                            "_model_name": "DescriptionStyleModel",
                            "_view_count": null,
                            "_view_module": "@jupyter-widgets/base",
                            "_view_module_version": "1.2.0",
                            "_view_name": "StyleView",
                            "description_width": ""
                        }
                    },
                    "5ff6f36eaa894a339210fc29fdbeedcf": {
                        "model_module": "@jupyter-widgets/controls",
                        "model_module_version": "1.5.0",
                        "model_name": "HTMLModel",
                        "state": {
                            "_dom_classes": [],
                            "_model_module": "@jupyter-widgets/controls",
                            "_model_module_version": "1.5.0",
                            "_model_name": "HTMLModel",
                            "_view_count": null,
                            "_view_module": "@jupyter-widgets/controls",
                            "_view_module_version": "1.5.0",
                            "_view_name": "HTMLView",
                            "description": "",
                            "description_tooltip": null,
                            "layout": "IPY_MODEL_9e036ff6f31e4efb9471d371db06f533",
                            "placeholder": "​",
                            "style": "IPY_MODEL_1a46e33438a648dd839fe5fd43b9582b",
                            "value": "<h5>Backend</h5>"
                        }
                    },
                    "608e06da96f840e890006ad286afc34b": {
                        "model_module": "@jupyter-widgets/controls",
                        "model_module_version": "1.5.0",
                        "model_name": "HTMLModel",
                        "state": {
                            "_dom_classes": [],
                            "_model_module": "@jupyter-widgets/controls",
                            "_model_module_version": "1.5.0",
                            "_model_name": "HTMLModel",
                            "_view_count": null,
                            "_view_module": "@jupyter-widgets/controls",
                            "_view_module_version": "1.5.0",
                            "_view_name": "HTMLView",
                            "description": "",
                            "description_tooltip": null,
                            "layout": "IPY_MODEL_74038cd5fbe8491ba5457f6cc81f7b5a",
                            "placeholder": "​",
                            "style": "IPY_MODEL_8569084253df4279b752a85c0b99027b",
                            "value": "<p style='font-family: IBM Plex Sans, Arial, Helvetica, sans-serif; font-size: 20px; font-weight: medium;'>Circuit Properties</p>"
                        }
                    },
                    "74038cd5fbe8491ba5457f6cc81f7b5a": {
                        "model_module": "@jupyter-widgets/base",
                        "model_module_version": "1.2.0",
                        "model_name": "LayoutModel",
                        "state": {
                            "_model_module": "@jupyter-widgets/base",
                            "_model_module_version": "1.2.0",
                            "_model_name": "LayoutModel",
                            "_view_count": null,
                            "_view_module": "@jupyter-widgets/base",
                            "_view_module_version": "1.2.0",
                            "_view_name": "LayoutView",
                            "align_content": null,
                            "align_items": null,
                            "align_self": null,
                            "border": null,
                            "bottom": null,
                            "display": null,
                            "flex": null,
                            "flex_flow": null,
                            "grid_area": null,
                            "grid_auto_columns": null,
                            "grid_auto_flow": null,
                            "grid_auto_rows": null,
                            "grid_column": null,
                            "grid_gap": null,
                            "grid_row": null,
                            "grid_template_areas": null,
                            "grid_template_columns": null,
                            "grid_template_rows": null,
                            "height": null,
                            "justify_content": null,
                            "justify_items": null,
                            "left": null,
                            "margin": "0px 0px 10px 0px",
                            "max_height": null,
                            "max_width": null,
                            "min_height": null,
                            "min_width": null,
                            "object_fit": null,
                            "object_position": null,
                            "order": null,
                            "overflow": null,
                            "overflow_x": null,
                            "overflow_y": null,
                            "padding": null,
                            "right": null,
                            "top": null,
                            "visibility": null,
                            "width": null
                        }
                    },
                    "8569084253df4279b752a85c0b99027b": {
                        "model_module": "@jupyter-widgets/controls",
                        "model_module_version": "1.5.0",
                        "model_name": "DescriptionStyleModel",
                        "state": {
                            "_model_module": "@jupyter-widgets/controls",
                            "_model_module_version": "1.5.0",
                            "_model_name": "DescriptionStyleModel",
                            "_view_count": null,
                            "_view_module": "@jupyter-widgets/base",
                            "_view_module_version": "1.2.0",
                            "_view_name": "StyleView",
                            "description_width": ""
                        }
                    },
                    "917c693fd8d84f2e99f59d75cd5062c2": {
                        "model_module": "@jupyter-widgets/controls",
                        "model_module_version": "1.5.0",
                        "model_name": "GridBoxModel",
                        "state": {
                            "_dom_classes": [],
                            "_model_module": "@jupyter-widgets/controls",
                            "_model_module_version": "1.5.0",
                            "_model_name": "GridBoxModel",
                            "_view_count": null,
                            "_view_module": "@jupyter-widgets/controls",
                            "_view_module_version": "1.5.0",
                            "_view_name": "GridBoxView",
                            "box_style": "",
                            "children": [
                                "IPY_MODEL_b7e87c3bbc404502ab1550d64f86c473"
                            ],
                            "layout": "IPY_MODEL_1f812fe9a02b41b885f01e3190957acf"
                        }
                    },
                    "96316857896d44328b3898d849594ae7": {
                        "model_module": "@jupyter-widgets/controls",
                        "model_module_version": "1.5.0",
                        "model_name": "DescriptionStyleModel",
                        "state": {
                            "_model_module": "@jupyter-widgets/controls",
                            "_model_module_version": "1.5.0",
                            "_model_name": "DescriptionStyleModel",
                            "_view_count": null,
                            "_view_module": "@jupyter-widgets/base",
                            "_view_module_version": "1.2.0",
                            "_view_name": "StyleView",
                            "description_width": ""
                        }
                    },
                    "9e036ff6f31e4efb9471d371db06f533": {
                        "model_module": "@jupyter-widgets/base",
                        "model_module_version": "1.2.0",
                        "model_name": "LayoutModel",
                        "state": {
                            "_model_module": "@jupyter-widgets/base",
                            "_model_module_version": "1.2.0",
                            "_model_name": "LayoutModel",
                            "_view_count": null,
                            "_view_module": "@jupyter-widgets/base",
                            "_view_module_version": "1.2.0",
                            "_view_name": "LayoutView",
                            "align_content": null,
                            "align_items": null,
                            "align_self": null,
                            "border": null,
                            "bottom": null,
                            "display": null,
                            "flex": null,
                            "flex_flow": null,
                            "grid_area": null,
                            "grid_auto_columns": null,
                            "grid_auto_flow": null,
                            "grid_auto_rows": null,
                            "grid_column": null,
                            "grid_gap": null,
                            "grid_row": null,
                            "grid_template_areas": null,
                            "grid_template_columns": null,
                            "grid_template_rows": null,
                            "height": null,
                            "justify_content": null,
                            "justify_items": null,
                            "left": null,
                            "margin": null,
                            "max_height": null,
                            "max_width": null,
                            "min_height": null,
                            "min_width": null,
                            "object_fit": null,
                            "object_position": null,
                            "order": null,
                            "overflow": null,
                            "overflow_x": null,
                            "overflow_y": null,
                            "padding": null,
                            "right": null,
                            "top": null,
                            "visibility": null,
                            "width": "145px"
                        }
                    },
                    "a38db3ffdfc848c0b0150e42b3509be5": {
                        "model_module": "@jupyter-widgets/controls",
                        "model_module_version": "1.5.0",
                        "model_name": "HTMLModel",
                        "state": {
                            "_dom_classes": [],
                            "_model_module": "@jupyter-widgets/controls",
                            "_model_module_version": "1.5.0",
                            "_model_name": "HTMLModel",
                            "_view_count": null,
                            "_view_module": "@jupyter-widgets/controls",
                            "_view_module_version": "1.5.0",
                            "_view_name": "HTMLView",
                            "description": "",
                            "description_tooltip": null,
                            "layout": "IPY_MODEL_2f981df37e914685992f4564103ef872",
                            "placeholder": "​",
                            "style": "IPY_MODEL_246d39f98fdb4892bc1d5bfb88d2f1cd",
                            "value": "<h5>Message</h5>"
                        }
                    },
                    "ac5a0f78ef8140a2abdf035fd1751936": {
                        "model_module": "@jupyter-widgets/controls",
                        "model_module_version": "1.5.0",
                        "model_name": "HTMLModel",
                        "state": {
                            "_dom_classes": [],
                            "_model_module": "@jupyter-widgets/controls",
                            "_model_module_version": "1.5.0",
                            "_model_name": "HTMLModel",
                            "_view_count": null,
                            "_view_module": "@jupyter-widgets/controls",
                            "_view_module_version": "1.5.0",
                            "_view_name": "HTMLView",
                            "description": "",
                            "description_tooltip": null,
                            "layout": "IPY_MODEL_3aa67247d1a9433f87b13ce1370c8b1c",
                            "placeholder": "​",
                            "style": "IPY_MODEL_46f75da5f7ab4f33b4df8618ccffde6b",
                            "value": "<h5>Job ID</h5>"
                        }
                    },
                    "b7e87c3bbc404502ab1550d64f86c473": {
                        "model_module": "@jupyter-widgets/controls",
                        "model_module_version": "1.5.0",
                        "model_name": "ButtonModel",
                        "state": {
                            "_dom_classes": [],
                            "_model_module": "@jupyter-widgets/controls",
                            "_model_module_version": "1.5.0",
                            "_model_name": "ButtonModel",
                            "_view_count": null,
                            "_view_module": "@jupyter-widgets/controls",
                            "_view_module_version": "1.5.0",
                            "_view_name": "ButtonView",
                            "button_style": "primary",
                            "description": "Clear",
                            "disabled": false,
                            "icon": "",
                            "layout": "IPY_MODEL_f6a39516121743099bece32bc0c3c696",
                            "style": "IPY_MODEL_40a8f99fef5b4aad89f533edcb091c3f",
                            "tooltip": ""
                        }
                    },
                    "eef64edafd8f47c885da65fa3ca0ab8a": {
                        "model_module": "@jupyter-widgets/controls",
                        "model_module_version": "1.5.0",
                        "model_name": "HTMLModel",
                        "state": {
                            "_dom_classes": [],
                            "_model_module": "@jupyter-widgets/controls",
                            "_model_module_version": "1.5.0",
                            "_model_name": "HTMLModel",
                            "_view_count": null,
                            "_view_module": "@jupyter-widgets/controls",
                            "_view_module_version": "1.5.0",
                            "_view_name": "HTMLView",
                            "description": "",
                            "description_tooltip": null,
                            "layout": "IPY_MODEL_ef270ca07615429ab689824b66fdb1ff",
                            "placeholder": "​",
                            "style": "IPY_MODEL_17046f96803d48aa8c63b99a5c89e6f3",
                            "value": "<h5>Queue</h5>"
                        }
                    },
                    "ef270ca07615429ab689824b66fdb1ff": {
                        "model_module": "@jupyter-widgets/base",
                        "model_module_version": "1.2.0",
                        "model_name": "LayoutModel",
                        "state": {
                            "_model_module": "@jupyter-widgets/base",
                            "_model_module_version": "1.2.0",
                            "_model_name": "LayoutModel",
                            "_view_count": null,
                            "_view_module": "@jupyter-widgets/base",
                            "_view_module_version": "1.2.0",
                            "_view_name": "LayoutView",
                            "align_content": null,
                            "align_items": null,
                            "align_self": null,
                            "border": null,
                            "bottom": null,
                            "display": null,
                            "flex": null,
                            "flex_flow": null,
                            "grid_area": null,
                            "grid_auto_columns": null,
                            "grid_auto_flow": null,
                            "grid_auto_rows": null,
                            "grid_column": null,
                            "grid_gap": null,
                            "grid_row": null,
                            "grid_template_areas": null,
                            "grid_template_columns": null,
                            "grid_template_rows": null,
                            "height": null,
                            "justify_content": null,
                            "justify_items": null,
                            "left": null,
                            "margin": null,
                            "max_height": null,
                            "max_width": null,
                            "min_height": null,
                            "min_width": null,
                            "object_fit": null,
                            "object_position": null,
                            "order": null,
                            "overflow": null,
                            "overflow_x": null,
                            "overflow_y": null,
                            "padding": null,
                            "right": null,
                            "top": null,
                            "visibility": null,
                            "width": "70px"
                        }
                    },
                    "f0e6a746eff140269e915ef65de640c7": {
                        "model_module": "@jupyter-widgets/base",
                        "model_module_version": "1.2.0",
                        "model_name": "LayoutModel",
                        "state": {
                            "_model_module": "@jupyter-widgets/base",
                            "_model_module_version": "1.2.0",
                            "_model_name": "LayoutModel",
                            "_view_count": null,
                            "_view_module": "@jupyter-widgets/base",
                            "_view_module_version": "1.2.0",
                            "_view_name": "LayoutView",
                            "align_content": null,
                            "align_items": null,
                            "align_self": null,
                            "border": null,
                            "bottom": null,
                            "display": null,
                            "flex": null,
                            "flex_flow": null,
                            "grid_area": null,
                            "grid_auto_columns": null,
                            "grid_auto_flow": null,
                            "grid_auto_rows": null,
                            "grid_column": null,
                            "grid_gap": null,
                            "grid_row": null,
                            "grid_template_areas": null,
                            "grid_template_columns": null,
                            "grid_template_rows": null,
                            "height": null,
                            "justify_content": null,
                            "justify_items": null,
                            "left": null,
                            "margin": null,
                            "max_height": null,
                            "max_width": null,
                            "min_height": null,
                            "min_width": null,
                            "object_fit": null,
                            "object_position": null,
                            "order": null,
                            "overflow": null,
                            "overflow_x": null,
                            "overflow_y": null,
                            "padding": null,
                            "right": null,
                            "top": null,
                            "visibility": null,
                            "width": "95px"
                        }
                    },
                    "f6a39516121743099bece32bc0c3c696": {
                        "model_module": "@jupyter-widgets/base",
                        "model_module_version": "1.2.0",
                        "model_name": "LayoutModel",
                        "state": {
                            "_model_module": "@jupyter-widgets/base",
                            "_model_module_version": "1.2.0",
                            "_model_name": "LayoutModel",
                            "_view_count": null,
                            "_view_module": "@jupyter-widgets/base",
                            "_view_module_version": "1.2.0",
                            "_view_name": "LayoutView",
                            "align_content": null,
                            "align_items": null,
                            "align_self": null,
                            "border": null,
                            "bottom": null,
                            "display": null,
                            "flex": null,
                            "flex_flow": null,
                            "grid_area": "right",
                            "grid_auto_columns": null,
                            "grid_auto_flow": null,
                            "grid_auto_rows": null,
                            "grid_column": null,
                            "grid_gap": null,
                            "grid_row": null,
                            "grid_template_areas": null,
                            "grid_template_columns": null,
                            "grid_template_rows": null,
                            "height": null,
                            "justify_content": null,
                            "justify_items": null,
                            "left": null,
                            "margin": null,
                            "max_height": null,
                            "max_width": null,
                            "min_height": null,
                            "min_width": null,
                            "object_fit": null,
                            "object_position": null,
                            "order": null,
                            "overflow": null,
                            "overflow_x": null,
                            "overflow_y": null,
                            "padding": "0px 0px 0px 0px",
                            "right": null,
                            "top": null,
                            "visibility": null,
                            "width": "70px"
                        }
                    },
                    "fc018f99fbb44aa9beb54a8e6be5209e": {
                        "model_module": "@jupyter-widgets/base",
                        "model_module_version": "1.2.0",
                        "model_name": "LayoutModel",
                        "state": {
                            "_model_module": "@jupyter-widgets/base",
                            "_model_module_version": "1.2.0",
                            "_model_name": "LayoutModel",
                            "_view_count": null,
                            "_view_module": "@jupyter-widgets/base",
                            "_view_module_version": "1.2.0",
                            "_view_name": "LayoutView",
                            "align_content": null,
                            "align_items": null,
                            "align_self": null,
                            "border": null,
                            "bottom": null,
                            "display": null,
                            "flex": null,
                            "flex_flow": null,
                            "grid_area": null,
                            "grid_auto_columns": null,
                            "grid_auto_flow": null,
                            "grid_auto_rows": null,
                            "grid_column": null,
                            "grid_gap": null,
                            "grid_row": null,
                            "grid_template_areas": null,
                            "grid_template_columns": null,
                            "grid_template_rows": null,
                            "height": null,
                            "justify_content": null,
                            "justify_items": null,
                            "left": null,
                            "margin": "0px 0px 0px 37px",
                            "max_height": null,
                            "max_width": null,
                            "min_height": null,
                            "min_width": null,
                            "object_fit": null,
                            "object_position": null,
                            "order": null,
                            "overflow": null,
                            "overflow_x": null,
                            "overflow_y": null,
                            "padding": null,
                            "right": null,
                            "top": null,
                            "visibility": null,
                            "width": "600px"
                        }
                    }
                },
                "version_major": 2,
                "version_minor": 0
            }
        }
    },
    "nbformat": 4,
    "nbformat_minor": 2
}
